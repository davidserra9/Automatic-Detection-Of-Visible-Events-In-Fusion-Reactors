{
  "nbformat": 4,
  "nbformat_minor": 0,
  "metadata": {
    "colab": {
      "name": "2_DataAnalysis.ipynb",
      "provenance": []
    },
    "kernelspec": {
      "name": "python3",
      "display_name": "Python 3"
    },
    "language_info": {
      "name": "python"
    }
  },
  "cells": [
    {
      "cell_type": "markdown",
      "metadata": {
        "id": "sw3DjPow7bYc"
      },
      "source": [
        "# 2.Data Analysis\n",
        "\n",
        "*Made by David Serrano for his Final Bachelor Thesis*\n"
      ]
    },
    {
      "cell_type": "markdown",
      "metadata": {
        "id": "LY3S5oPSWnU3"
      },
      "source": [
        "This file analyzes how many sequences have been labeled, how many detections and tracks we have found (and their labels) and how the detections Bounding Boxes and tracks are."
      ]
    },
    {
      "cell_type": "markdown",
      "metadata": {
        "id": "edbQTdnuYPPG"
      },
      "source": [
        "## 2.1. Environment Preparation"
      ]
    },
    {
      "cell_type": "code",
      "metadata": {
        "id": "QT6sqsML8LIt"
      },
      "source": [
        "# Useful general imports\n",
        "from google.colab import drive "
      ],
      "execution_count": null,
      "outputs": []
    },
    {
      "cell_type": "code",
      "metadata": {
        "id": "sPc-AaHD8OAo",
        "colab": {
          "base_uri": "https://localhost:8080/"
        },
        "outputId": "edcb3bb1-6c68-4cfb-8cb6-d09e64e4c7d1"
      },
      "source": [
        "# mount the google drive folder to access to all the files in there\n",
        "drive.mount('/content/drive', force_remount=True)"
      ],
      "execution_count": null,
      "outputs": [
        {
          "output_type": "stream",
          "text": [
            "Mounted at /content/drive\n"
          ],
          "name": "stdout"
        }
      ]
    },
    {
      "cell_type": "code",
      "metadata": {
        "id": "CbK1oIGv8PSy"
      },
      "source": [
        "# Add the folder called utils that has all the custom modules in .py files\n",
        "import sys\n",
        "sys.path.append('/content/drive/MyDrive/TFG/utils')"
      ],
      "execution_count": null,
      "outputs": []
    },
    {
      "cell_type": "code",
      "metadata": {
        "id": "OFPt2YSL8RTV"
      },
      "source": [
        "from paths import PROJECT_ROOT, HDF5_FOLDER, JSON_FOLDER"
      ],
      "execution_count": null,
      "outputs": []
    },
    {
      "cell_type": "markdown",
      "metadata": {
        "id": "2zUnRyTN76_D"
      },
      "source": [
        "## 2.2. Sequence and Detection Analysis"
      ]
    },
    {
      "cell_type": "markdown",
      "metadata": {
        "id": "9655xyeDYk2S"
      },
      "source": [
        "In the following block the labeled sequences are compared to the video files to realise which of the sequences are usable."
      ]
    },
    {
      "cell_type": "code",
      "metadata": {
        "id": "z5MKFyjB7U1I",
        "colab": {
          "base_uri": "https://localhost:8080/"
        },
        "outputId": "504be9d9-3edb-46eb-bb5d-cc84695ba616"
      },
      "source": [
        "from os import walk\n",
        "\n",
        "# All the files in .h5 and .json\n",
        "all_HDF5 = []\n",
        "all_labeled = []\n",
        "\n",
        "# The .h5 files which do not have assigned a .json file and viceversa\n",
        "missing_HDF5 = []\n",
        "missing_labeled = []\n",
        "\n",
        "# Adquire all the HDF5 names\n",
        "for (dirpathHDF5, dirnamesHDF5, filenamesHDF5) in walk(HDF5_FOLDER):\n",
        "    for fileHDF5 in filenamesHDF5:\n",
        "        if fileHDF5.endswith('.h5'):\n",
        "            all_HDF5.append(fileHDF5[:-3])\n",
        "\n",
        "# Adquire all the .json names\n",
        "for (dirpathJSON, dirnamesJSON, filenamesJSON) in walk(JSON_FOLDER):\n",
        "    for fileJSON in filenamesJSON:\n",
        "        if fileJSON.endswith('.h5.json'):\n",
        "            all_labeled.append(fileJSON[:-8])\n",
        "\n",
        "# Detect which files are missing\n",
        "for filename in all_HDF5:\n",
        "    if not filename in all_labeled:\n",
        "        missing_labeled.append(filename)\n",
        "    \n",
        "for filename in all_labeled:\n",
        "    if not filename in all_HDF5:\n",
        "        missing_HDF5.append(filename)\n",
        "\n",
        "# Display\n",
        "if len(missing_HDF5)==0 and len(missing_labeled)==0:\n",
        "    print('All the files have assigned a JSON file and a HDF5 file.')\n",
        "\n",
        "elif len(missing_labeled)>0 and len(missing_HDF5)==0:\n",
        "    print('All the JSON files have assigned a HDF5 file.')\n",
        "    print('The following HDF5 files do not have assigned a JSON file:')\n",
        "    for filename in missing_labeled:\n",
        "        print('\\t{}'.format(filename))\n",
        "\n",
        "elif len(missing_labeled)==0 and len(missing_HDF5)>0:\n",
        "    print('All the HDF5 files have assigned a JSON file.')\n",
        "    print('The following JSON files do not have assigned a HDF5 file:')\n",
        "    for filename in missing_HDF5:\n",
        "        print('\\t{}'.format(filename))\n",
        "\n",
        "else:\n",
        "    print('The following HDF5 files do not have assigned a JSON file:')\n",
        "    for filename in missing_labeled:\n",
        "        print('\\t{}'.format(filename))\n",
        "    print('The following JSON files do not have assigned a HDF5 file:')\n",
        "    for filename in missing_HDF5:\n",
        "        print('\\t{}'.format(filename))"
      ],
      "execution_count": null,
      "outputs": [
        {
          "output_type": "stream",
          "text": [
            "The following HDF5 files do not have assigned a JSON file:\n",
            "\t20180918.045_AEQ50\n",
            "The following JSON files do not have assigned a HDF5 file:\n",
            "\t20180906.036_AEQ10\n",
            "\t20180906.036_AEQ51\n"
          ],
          "name": "stdout"
        }
      ]
    },
    {
      "cell_type": "markdown",
      "metadata": {
        "id": "0SjXD2hvZKXe"
      },
      "source": [
        "So we conclude that the usable sequences, which have both JSON and HDF5 files, are:"
      ]
    },
    {
      "cell_type": "code",
      "metadata": {
        "id": "LZ85h35_8XPe"
      },
      "source": [
        "usable_sequences = ['20171207.039_AEQ11', '20171207.043_AEQ11',\n",
        "                    '20180918.036_AEQ50', '20180918.038_AEQ50',\n",
        "                    '20180918.040_AEQ50', '20180919.007_AEQ40',\n",
        "                    '20180920.034_AEQ11', '20181002.028_AEQ20',\n",
        "                    '20181004.038_AEQ10', '20181004.038_AEQ20',\n",
        "                    '20181004.038_AEQ40', '20181004.046_AEQ20',\n",
        "                    '20181004.046_AEQ40', '20181004.046_AEQ50']"
      ],
      "execution_count": null,
      "outputs": []
    },
    {
      "cell_type": "markdown",
      "metadata": {
        "id": "xbiOS9aOZU2c"
      },
      "source": [
        "To facilitate the visualization and operation of the filenames, the following blocks create two auxiliar functions which link every file name to a number and vice versa:"
      ]
    },
    {
      "cell_type": "code",
      "metadata": {
        "id": "1IRNXAPO8bDb"
      },
      "source": [
        "def seq2num(seq):\n",
        "    \"\"\"\n",
        "    Link a string sequence filename to a number\n",
        "    - seq:      string with the filename\n",
        "    - return:   int\n",
        "    \"\"\"\n",
        "    num = -1\n",
        "    if '20171207.039_AEQ11' in seq:\n",
        "        num = 1\n",
        "    elif '20171207.043_AEQ11' in seq:\n",
        "        num = 2\n",
        "    elif '20180918.036_AEQ50' in seq:\n",
        "        num = 3\n",
        "    elif '20180918.038_AEQ50' in seq:\n",
        "        num = 4\n",
        "    elif '20180918.040_AEQ50' in seq:\n",
        "        num = 5\n",
        "    elif '20180919.007_AEQ40' in seq:\n",
        "        num = 6\n",
        "    elif '20180920.034_AEQ11' in seq:\n",
        "        num = 7\n",
        "    elif '20181002.028_AEQ20' in seq:\n",
        "        num = 8\n",
        "    elif '20181004.038_AEQ10' in seq:\n",
        "        num = 9\n",
        "    elif '20181004.038_AEQ20' in seq:\n",
        "        num = 10\n",
        "    elif '20181004.038_AEQ40' in seq:\n",
        "        num = 11\n",
        "    elif '20181004.046_AEQ20' in seq:\n",
        "        num = 12\n",
        "    elif '20181004.046_AEQ40' in seq:\n",
        "        num = 13\n",
        "    elif '20181004.046_AEQ50' in seq:\n",
        "        num = 14\n",
        "        \n",
        "    return num"
      ],
      "execution_count": null,
      "outputs": []
    },
    {
      "cell_type": "code",
      "metadata": {
        "id": "ElTRgq8v8h6-"
      },
      "source": [
        "def num2seq(num):\n",
        "    \"\"\"\n",
        "    Link every number between 1 and 14 to a sequence name\n",
        "    - num:      int\n",
        "    - return:   string with the linked filename\n",
        "    \"\"\"\n",
        "    seq = ''\n",
        "    if num == 1:\n",
        "        seq = '20171207.039_AEQ11'\n",
        "    elif num == 2:\n",
        "        seq = '20171207.043_AEQ11'\n",
        "    elif num == 3:\n",
        "        seq ='20180918.036_AEQ50'\n",
        "    elif num == 4:\n",
        "        seq = '20180918.038_AEQ50'\n",
        "    elif num == 5:\n",
        "        seq = '20180918.040_AEQ50'\n",
        "    elif num == 6:\n",
        "        seq = '20180919.007_AEQ40'\n",
        "    elif num == 7:\n",
        "        seq = '20180920.034_AEQ11'\n",
        "    elif num == 8:\n",
        "        seq = '20181002.028_AEQ20'\n",
        "    elif num == 9:\n",
        "        seq = '20181004.038_AEQ10'\n",
        "    elif num == 10:\n",
        "        seq = '20181004.038_AEQ20'\n",
        "    elif num == 11:\n",
        "        seq = '20181004.038_AEQ40'\n",
        "    elif num == 12:\n",
        "        seq = '20181004.046_AEQ20'\n",
        "    elif num == 13:\n",
        "        seq = '20181004.046_AEQ40'\n",
        "    elif num == 14:\n",
        "        seq = '20181004.046_AEQ50'\n",
        "    \n",
        "    return seq "
      ],
      "execution_count": null,
      "outputs": []
    },
    {
      "cell_type": "markdown",
      "metadata": {
        "id": "zLRPwOe7Zr9p"
      },
      "source": [
        "Now, the following block counts all the detections stored. It is done:\n",
        "\n",
        "\n",
        "1.   FRAME-BY-FRAME: counting ALL the detectins. This means that counts all the detections, even though they are from the same track.\n",
        "2.   TRACK LEVEL: counting ONLY the tracks. This means that it does not matter how many detections or frames has a track that it will be counted as one.\n",
        "\n"
      ]
    },
    {
      "cell_type": "code",
      "metadata": {
        "id": "eJXEHCm_8npc",
        "colab": {
          "base_uri": "https://localhost:8080/"
        },
        "outputId": "9cd27ee3-93bf-4328-be4d-ccbfc7229814"
      },
      "source": [
        "# cusotm imports for this block\n",
        "from JSONLoader import loadData\n",
        "\n",
        "from os import walk\n",
        "\n",
        "# Counters of all the TOTAL FRAMES with NoHotSpots, HotSpots and Anomalies\n",
        "nNoHotSpot_fr = 0  # detection[6] == 0\n",
        "nHotSpot_fr = 0    # detection[6] == 1\n",
        "nAnomaly_fr = 0    # detection[6] == 2\n",
        "\n",
        "# Counters of all the TOTAL TRACKS being NoHotSpots, HotSpots and Anomalies\n",
        "nNoHotSpot_tr = 0  # detection[6] == 0\n",
        "nHotSpot_tr = 0    # detection[6] == 1\n",
        "nAnomaly_tr = 0    # detection[6] == 2\n",
        "\n",
        "for (dirpath, dirnames, filenames) in walk(HDF5_FOLDER):\n",
        "    for file in filenames:\n",
        "        if file.endswith('.h5') and file[:-3] in usable_sequences:\n",
        "\n",
        "            # FRAME-BY-FRAME\n",
        "            # Counter of frames with NoHotSpots of the actual file\n",
        "            nNoHotSpot_fr_i = 0\n",
        "\n",
        "            # Counter of frames with HotSpots of the actual file\n",
        "            nHotSpot_fr_i = 0\n",
        "\n",
        "            # Counter of frames with Anomalies of the actual file\n",
        "            nAnomaly_fr_i = 0\n",
        "\n",
        "            # TRACKS\n",
        "            # Counter of tracks which are NoHotSpots of the actual file\n",
        "            nNoHotSpot_tr_i = 0\n",
        "\n",
        "            # Counter of tracks which are HotSpots of the actual file\n",
        "            nHotSpot_tr_i = 0\n",
        "\n",
        "            # Counter of tracks which are Anomalies of the actual file\n",
        "            nAnomaly_tr_i = 0\n",
        "\n",
        "            # Actual trackID\n",
        "            actualTrackID = -1  # detection[1]\n",
        "           \n",
        "\n",
        "            nNoHotSpot_fr_i = 0\n",
        "            nHotSpot_fr_i = 0\n",
        "            nAnomaly_fr_i = 0\n",
        "            nNoHotSpot_tr_i = 0\n",
        "            nHotSpot_tr_i = 0\n",
        "            nAnomaly_tr_i = 0\n",
        "\n",
        "            try:\n",
        "                filename = JSON_FOLDER + file + '.json'\n",
        "                detections = loadData(filename)\n",
        "\n",
        "                # FRAME-BY-FRAME\n",
        "                for detection in detections:\n",
        "                    if detection[6] == 0:\n",
        "                        nNoHotSpot_fr_i = nNoHotSpot_fr_i + 1\n",
        "                    elif detection[6] == 1:\n",
        "                        nHotSpot_fr_i = nHotSpot_fr_i + 1\n",
        "                    elif detection[6] == 2:\n",
        "                        nAnomaly_fr_i = nAnomaly_fr_i + 1\n",
        "\n",
        "                # TRACKS\n",
        "                for detection in detections:\n",
        "                    if actualTrackID != detection[1]:                           \n",
        "                        if detection[6] == 0:\n",
        "                            nNoHotSpot_tr_i = nNoHotSpot_tr_i + 1\n",
        "                        elif detection[6] == 1:\n",
        "                            nHotSpot_tr_i = nHotSpot_tr_i + 1\n",
        "                        elif detection[6] == 2:\n",
        "                            nAnomaly_tr_i = nAnomaly_tr_i + 1\n",
        "                    \n",
        "                    actualTrackID = detection[1]\n",
        "        \n",
        "                print('{} ({})'.format(file, seq2num(file)))\n",
        "\n",
        "                print('\\tFRAME-BY-FRAME:')\n",
        "                print('\\tNumber of NoHotSpots: {}'.format(nNoHotSpot_fr_i))\n",
        "                print('\\tNumber of HotSpots: {}'.format(nHotSpot_fr_i))\n",
        "                print('\\tNumber of Anomalies: {}'.format(nAnomaly_fr_i))\n",
        "\n",
        "                print('\\tTRACK:')\n",
        "                print('\\tNumber of NoHotSpots: {}'.format(nNoHotSpot_tr_i))\n",
        "                print('\\tNumber of HotSpots: {}'.format(nHotSpot_tr_i))\n",
        "                print('\\tNumber of Anomalies: {}'.format(nAnomaly_tr_i))\n",
        "\n",
        "                nNoHotSpot_fr = nNoHotSpot_fr + nNoHotSpot_fr_i\n",
        "                nHotSpot_fr = nHotSpot_fr + nHotSpot_fr_i\n",
        "                nAnomaly_fr = nAnomaly_fr + nAnomaly_fr_i\n",
        "\n",
        "                nNoHotSpot_tr = nNoHotSpot_tr + nNoHotSpot_tr_i\n",
        "                nHotSpot_tr = nHotSpot_tr + nHotSpot_tr_i\n",
        "                nAnomaly_tr = nAnomaly_tr + nAnomaly_tr_i\n",
        "\n",
        "            except Exception as e:\n",
        "                print('Error opening file')\n",
        "                print(e)\n",
        "\n",
        "print(\"==============================================================\")\n",
        "print(\"==============================================================\")\n",
        "print('Number of the TOTAL FRAME detections as NoHotSpots: {}'.format(nNoHotSpot_fr))\n",
        "print('Number of the TOTAL FRAME detections as HotSpots: {}'.format(nHotSpot_fr))\n",
        "print('Number of the TOTAL FRAME detections as Anomalies: {}'.format(nAnomaly_fr))\n",
        "print(\"--------------------------------------------------------------\")\n",
        "print('Number of the TOTAL TRACKS as NoHotSpots: {}'.format(nNoHotSpot_tr))\n",
        "print('Number of the TOTAL TRACKS detections as HotSpots: {}'.format(nHotSpot_tr))\n",
        "print('Number of the TOTAL TRAKCS detections as Anomalies: {}'.format(nAnomaly_tr))\n",
        "print(\"==============================================================\")\n",
        "print('Number of the TOTAL FRAME DETECTIONS: {}'.format(nNoHotSpot_fr+nHotSpot_fr+nAnomaly_fr))\n",
        "print(\"--------------------------------------------------------------\")\n",
        "print('Number of the TOTAL TRACKS DETECTED: {}'.format(nNoHotSpot_tr+nHotSpot_tr+nAnomaly_tr))"
      ],
      "execution_count": null,
      "outputs": [
        {
          "output_type": "stream",
          "text": [
            "20171207.039_AEQ11.h5 (1)\n",
            "\tFRAME-BY-FRAME:\n",
            "\tNumber of NoHotSpots: 5473\n",
            "\tNumber of HotSpots: 0\n",
            "\tNumber of Anomalies: 191\n",
            "\tTRACK:\n",
            "\tNumber of NoHotSpots: 49\n",
            "\tNumber of HotSpots: 0\n",
            "\tNumber of Anomalies: 3\n",
            "20171207.043_AEQ11.h5 (2)\n",
            "\tFRAME-BY-FRAME:\n",
            "\tNumber of NoHotSpots: 7887\n",
            "\tNumber of HotSpots: 0\n",
            "\tNumber of Anomalies: 279\n",
            "\tTRACK:\n",
            "\tNumber of NoHotSpots: 74\n",
            "\tNumber of HotSpots: 0\n",
            "\tNumber of Anomalies: 3\n",
            "20180918.036_AEQ50.h5 (3)\n",
            "\tFRAME-BY-FRAME:\n",
            "\tNumber of NoHotSpots: 8592\n",
            "\tNumber of HotSpots: 673\n",
            "\tNumber of Anomalies: 877\n",
            "\tTRACK:\n",
            "\tNumber of NoHotSpots: 56\n",
            "\tNumber of HotSpots: 3\n",
            "\tNumber of Anomalies: 8\n",
            "20180918.038_AEQ50.h5 (4)\n",
            "\tFRAME-BY-FRAME:\n",
            "\tNumber of NoHotSpots: 7325\n",
            "\tNumber of HotSpots: 433\n",
            "\tNumber of Anomalies: 829\n",
            "\tTRACK:\n",
            "\tNumber of NoHotSpots: 62\n",
            "\tNumber of HotSpots: 2\n",
            "\tNumber of Anomalies: 6\n",
            "20180918.040_AEQ50.h5 (5)\n",
            "\tFRAME-BY-FRAME:\n",
            "\tNumber of NoHotSpots: 6702\n",
            "\tNumber of HotSpots: 255\n",
            "\tNumber of Anomalies: 398\n",
            "\tTRACK:\n",
            "\tNumber of NoHotSpots: 83\n",
            "\tNumber of HotSpots: 1\n",
            "\tNumber of Anomalies: 4\n",
            "20180919.007_AEQ40.h5 (6)\n",
            "\tFRAME-BY-FRAME:\n",
            "\tNumber of NoHotSpots: 7302\n",
            "\tNumber of HotSpots: 0\n",
            "\tNumber of Anomalies: 0\n",
            "\tTRACK:\n",
            "\tNumber of NoHotSpots: 63\n",
            "\tNumber of HotSpots: 0\n",
            "\tNumber of Anomalies: 0\n",
            "20180920.034_AEQ11.h5 (7)\n",
            "\tFRAME-BY-FRAME:\n",
            "\tNumber of NoHotSpots: 8663\n",
            "\tNumber of HotSpots: 2020\n",
            "\tNumber of Anomalies: 1110\n",
            "\tTRACK:\n",
            "\tNumber of NoHotSpots: 61\n",
            "\tNumber of HotSpots: 5\n",
            "\tNumber of Anomalies: 4\n",
            "20181002.028_AEQ20.h5 (8)\n",
            "\tFRAME-BY-FRAME:\n",
            "\tNumber of NoHotSpots: 15152\n",
            "\tNumber of HotSpots: 52\n",
            "\tNumber of Anomalies: 53\n",
            "\tTRACK:\n",
            "\tNumber of NoHotSpots: 43\n",
            "\tNumber of HotSpots: 1\n",
            "\tNumber of Anomalies: 1\n",
            "20181004.038_AEQ10.h5 (9)\n",
            "\tFRAME-BY-FRAME:\n",
            "\tNumber of NoHotSpots: 14574\n",
            "\tNumber of HotSpots: 2296\n",
            "\tNumber of Anomalies: 0\n",
            "\tTRACK:\n",
            "\tNumber of NoHotSpots: 73\n",
            "\tNumber of HotSpots: 5\n",
            "\tNumber of Anomalies: 0\n",
            "20181004.038_AEQ20.h5 (10)\n",
            "\tFRAME-BY-FRAME:\n",
            "\tNumber of NoHotSpots: 25491\n",
            "\tNumber of HotSpots: 2481\n",
            "\tNumber of Anomalies: 0\n",
            "\tTRACK:\n",
            "\tNumber of NoHotSpots: 64\n",
            "\tNumber of HotSpots: 5\n",
            "\tNumber of Anomalies: 0\n",
            "20181004.038_AEQ40.h5 (11)\n",
            "\tFRAME-BY-FRAME:\n",
            "\tNumber of NoHotSpots: 14899\n",
            "\tNumber of HotSpots: 1161\n",
            "\tNumber of Anomalies: 785\n",
            "\tTRACK:\n",
            "\tNumber of NoHotSpots: 72\n",
            "\tNumber of HotSpots: 3\n",
            "\tNumber of Anomalies: 4\n",
            "20181004.046_AEQ20.h5 (12)\n",
            "\tFRAME-BY-FRAME:\n",
            "\tNumber of NoHotSpots: 21141\n",
            "\tNumber of HotSpots: 2495\n",
            "\tNumber of Anomalies: 0\n",
            "\tTRACK:\n",
            "\tNumber of NoHotSpots: 60\n",
            "\tNumber of HotSpots: 6\n",
            "\tNumber of Anomalies: 0\n",
            "20181004.046_AEQ40.h5 (13)\n",
            "\tFRAME-BY-FRAME:\n",
            "\tNumber of NoHotSpots: 11361\n",
            "\tNumber of HotSpots: 1273\n",
            "\tNumber of Anomalies: 1331\n",
            "\tTRACK:\n",
            "\tNumber of NoHotSpots: 55\n",
            "\tNumber of HotSpots: 4\n",
            "\tNumber of Anomalies: 3\n",
            "20181004.046_AEQ50.h5 (14)\n",
            "\tFRAME-BY-FRAME:\n",
            "\tNumber of NoHotSpots: 15868\n",
            "\tNumber of HotSpots: 1733\n",
            "\tNumber of Anomalies: 563\n",
            "\tTRACK:\n",
            "\tNumber of NoHotSpots: 58\n",
            "\tNumber of HotSpots: 6\n",
            "\tNumber of Anomalies: 1\n",
            "==============================================================\n",
            "==============================================================\n",
            "Number of the TOTAL FRAME detections as NoHotSpots: 170430\n",
            "Number of the TOTAL FRAME detections as HotSpots: 14872\n",
            "Number of the TOTAL FRAME detections as Anomalies: 6416\n",
            "--------------------------------------------------------------\n",
            "Number of the TOTAL TRACKS as NoHotSpots: 873\n",
            "Number of the TOTAL TRACKS detections as HotSpots: 41\n",
            "Number of the TOTAL TRAKCS detections as Anomalies: 37\n",
            "==============================================================\n",
            "Number of the TOTAL FRAME DETECTIONS: 191718\n",
            "--------------------------------------------------------------\n",
            "Number of the TOTAL TRACKS DETECTED: 951\n"
          ],
          "name": "stdout"
        }
      ]
    },
    {
      "cell_type": "markdown",
      "metadata": {
        "id": "xnnfLx0IbBI1"
      },
      "source": [
        "## 2.3. Bounding Box Analysis\n"
      ]
    },
    {
      "cell_type": "markdown",
      "metadata": {
        "id": "3iwc5ZukbJ8R"
      },
      "source": [
        "The following block makes a study of the Bounding Boxes of the stored detections for later on crop them. The code returns:\n",
        "\n",
        "\n",
        "*   Histogram with the maximum side length of the Bounding Boxes\n",
        "*   2D-Histogram with the maximum side length of the Bounding Boxes and the form factor (minimum side length/maximum side length)\n",
        "\n"
      ]
    },
    {
      "cell_type": "code",
      "metadata": {
        "colab": {
          "base_uri": "https://localhost:8080/",
          "height": 1000
        },
        "id": "9DHF9DmUbJda",
        "outputId": "8482cc79-c56d-41d1-9267-d758bf94a64f"
      },
      "source": [
        "from os import walk\n",
        "import matplotlib.pyplot as plt\n",
        "\n",
        "max_len = []\n",
        "form_factor = []\n",
        "for (dirpath, dirnames, filenames) in walk(HDF5_FOLDER):\n",
        "    for file in filenames:\n",
        "        if file.endswith('.h5') and file[:-3] in usable_sequences:\n",
        "\n",
        "            try:\n",
        "                filename = JSON_FOLDER + file + '.json'\n",
        "                detections = loadData(filename)\n",
        "\n",
        "                for detection in detections:\n",
        "                    xdif = detection[4] - detection[2]\n",
        "                    ydif = detection[5] - detection[3]\n",
        "                    max_len.append(max(xdif, ydif))\n",
        "                    if xdif < ydif:\n",
        "                        form_factor.append(xdif/ydif)\n",
        "                    else:\n",
        "                        form_factor.append(ydif/xdif)\n",
        "                \n",
        "            except Exception as e:\n",
        "                print('Error opening file')\n",
        "                print(e)\n",
        "\n",
        "plt.figure(figsize=(10,10))\n",
        "plt.title('Histogram of the Max. Side Length of the BBox')                    \n",
        "_ = plt.hist(max_len, bins=50, color = \"b\", ec=\"black\")\n",
        "plt.show()\n",
        "\n",
        "plt.figure(figsize=(10,10))\n",
        "plt.title('2D Histogram of the Max. Side Length of the BBox and the Form Factor')  \n",
        "_ = plt.hist2d(max_len, form_factor, bins=50, cmap=plt.cm.jet)\n",
        "plt.show()"
      ],
      "execution_count": null,
      "outputs": [
        {
          "output_type": "display_data",
          "data": {
            "image/png": "[encoded data removed]",
            "text/plain": [
              "<Figure size 720x720 with 1 Axes>"
            ]
          },
          "metadata": {
            "tags": [],
            "needs_background": "light"
          }
        },
        {
          "output_type": "display_data",
          "data": {
            "image/png": "[encoded data removed]",
            "text/plain": [
              "<Figure size 720x720 with 1 Axes>"
            ]
          },
          "metadata": {
            "tags": [],
            "needs_background": "light"
          }
        }
      ]
    },
    {
      "cell_type": "markdown",
      "metadata": {
        "id": "3PjtlBYCc20X"
      },
      "source": [
        "In light of the histograms achieved, we can conclude that almost all the BBoxes have a maximum side length of at most 250 pixels. We can also conclude that all the detections have a reduced form factor, in other words, both sides are usually similar."
      ]
    },
    {
      "cell_type": "markdown",
      "metadata": {
        "id": "40B-0NzJdmjn"
      },
      "source": [
        "Later on we will crop the detections, so the following block analyzes and returns the percentage of detections that fit within a square of side length *MAX_SQUARE_LEN*.\n",
        "\n",
        "Taking into account other factors such as the input size of some of the pretrained Neural Networks, we will use a square of 224 pixles of side length.\n",
        "\n",
        "We can observe that 92.32% fit within a 224 pixels square, with is a reasonable result."
      ]
    },
    {
      "cell_type": "code",
      "metadata": {
        "colab": {
          "base_uri": "https://localhost:8080/"
        },
        "id": "KUTRCgSTdmC1",
        "outputId": "76a33217-56b5-43fe-91b6-47ef06e02f92"
      },
      "source": [
        "MAX_SQUARE_LEN = 224\n",
        "\n",
        "from os import walk\n",
        "\n",
        "counter = 0\n",
        "total_counter = 0\n",
        "for (dirpath, dirnames, filenames) in walk(HDF5_FOLDER):\n",
        "    for file in filenames:\n",
        "        if file.endswith('.h5') and file[:-3] in usable_sequences:\n",
        "\n",
        "            try:\n",
        "                filename = JSON_FOLDER + file + '.json'\n",
        "                detections = loadData(filename)\n",
        "\n",
        "                for detection in detections:\n",
        "                    total_counter = total_counter + 1\n",
        "                    xdif = detection[4] - detection[2]\n",
        "                    ydif = detection[5] - detection[3]\n",
        "                    if xdif<MAX_SQUARE_LEN and ydif<MAX_SQUARE_LEN:\n",
        "                        counter = counter + 1\n",
        "                \n",
        "            except Exception as e:\n",
        "                print('Error opening file')\n",
        "                print(e)\n",
        "\n",
        "print('The {:.2f}% of the BBoxes fit within a {} pixels square'.format((counter/total_counter)*100,\n",
        "                                                                       MAX_SQUARE_LEN))"
      ],
      "execution_count": null,
      "outputs": [
        {
          "output_type": "stream",
          "text": [
            "The 92.32% of the BBoxes fit within a 224 pixels square\n"
          ],
          "name": "stdout"
        }
      ]
    },
    {
      "cell_type": "markdown",
      "metadata": {
        "id": "JArAY9lFfeQK"
      },
      "source": [
        "## 2.4. Track Analysis\n",
        "\n"
      ]
    },
    {
      "cell_type": "markdown",
      "metadata": {
        "id": "x4t1g-MmfjDt"
      },
      "source": [
        "This section analyses the tracks of the stored detections with:\n",
        "\n",
        "\n",
        "*   Histogram of the frame length of the tracks\n",
        "*   Histogram of the maximum displacement of the Bounding Boxes of the same track. (Euclidean Distance)\n",
        "*   Histogram of the maximum change of the area of the Bounding Boxes of the same track\n",
        "\n",
        "The analysis is first done differentiating amongst labels to know if there exists some specific characteristics that can be used later on, and then, all the labels mixed up to have a general view.\n",
        "\n",
        "Above the histograms, the means of all the sets of values are computed.\n",
        "\n"
      ]
    },
    {
      "cell_type": "code",
      "metadata": {
        "colab": {
          "base_uri": "https://localhost:8080/"
        },
        "id": "Zk8ZkqAHfif0",
        "outputId": "6a625d45-c0d8-495a-8967-ca046451830a"
      },
      "source": [
        "# Custom imports\n",
        "from JSONLoader import loadData\n",
        "\n",
        "import math\n",
        "import numpy as np\n",
        "\n",
        "# List of each characteristic to analyze for each label\n",
        "trackLength_NHS = []\n",
        "trackLength_HS = []\n",
        "trackLength_AN = []\n",
        "\n",
        "distances_NHS = []\n",
        "distances_HS = []\n",
        "distances_AN = []\n",
        "\n",
        "areas_NHS = []\n",
        "areas_HS = []\n",
        "areas_AN = []\n",
        "\n",
        "for seq in usable_sequences:\n",
        "    print('Studying sequence {}({})'.format(seq, seq2num(seq)))\n",
        "\n",
        "    # Detections of each sequence of the list\n",
        "    detections_i = loadData(JSON_FOLDER + seq + '.h5.json')\n",
        "\n",
        "    # List with all the detections with the same trackID\n",
        "    sameTrackID_detections = []\n",
        "    track_i_length = 0\n",
        "    trackID = 0\n",
        "\n",
        "    # Create a list with the actual track detections\n",
        "    # When the track changes into the next one, calculate all the\n",
        "    # characteristics (frame length, centroid displacement, change of size)\n",
        "    for d in detections_i:\n",
        "        if d[1] == trackID:\n",
        "            label = d[6]\n",
        "            track_i_length = track_i_length + 1\n",
        "            BBox_Xcentroid = ((d[4] - d[2]) / 2) + d[2]\n",
        "            BBox_Ycentroid = ((d[5] - d[3]) / 2) + d[3]\n",
        "            BBox_area = (d[4] - d[2]) * (d[5] - d[3])\n",
        "            sameTrackID_detections.append(\n",
        "                [BBox_Xcentroid, BBox_Ycentroid, BBox_area])\n",
        "\n",
        "        else:\n",
        "            all_vs_all_distance = np.zeros(\n",
        "                (len(sameTrackID_detections), len(sameTrackID_detections)))\n",
        "            all_vs_all_area = np.zeros(\n",
        "                (len(sameTrackID_detections), len(sameTrackID_detections)))\n",
        "            i = 0\n",
        "            for c0 in sameTrackID_detections:\n",
        "                j = 0\n",
        "                for c1 in sameTrackID_detections:\n",
        "                    distance_diff = math.sqrt((c0[0] - c1[0]) ** 2 + (c0[1] - c1[1]) ** 2)\n",
        "                    area_diff =  abs(c0[2] - c1[2])\n",
        "                    all_vs_all_distance[i,j] = distance_diff\n",
        "                    all_vs_all_area[i,j] = area_diff\n",
        "                    j = j + 1\n",
        "                i = i + 1\n",
        "\n",
        "            max_distance = np.max(all_vs_all_distance)\n",
        "            max_area = np.max(all_vs_all_area)\n",
        "\n",
        "            if label == 0:\n",
        "                distances_NHS.append(max_distance)\n",
        "                areas_NHS.append(max_area)\n",
        "                trackLength_NHS.append(track_i_length)\n",
        "            \n",
        "            elif label == 1:\n",
        "                distances_HS.append(max_distance)\n",
        "                areas_HS.append(max_area)\n",
        "                trackLength_HS.append(track_i_length)\n",
        "\n",
        "            elif label == 2:\n",
        "                distances_AN.append(max_distance)\n",
        "                areas_AN.append(max_area)\n",
        "                trackLength_AN.append(track_i_length)\n",
        "\n",
        "            track_i_length = 1\n",
        "            trackID = d[1]\n",
        "            sameTrackID_detections = []\n",
        "            BBox_Xcentroid = ((d[4] - d[2]) / 2) + d[2]\n",
        "            BBox_Ycentroid = ((d[5] - d[3]) / 2) + d[3]\n",
        "            BBox_area = (d[4] - d[2]) * (d[5] - d[3])\n",
        "            sameTrackID_detections.append(\n",
        "                [BBox_Xcentroid, BBox_Ycentroid, BBox_area])\n",
        "\n",
        "    # Add the final track detection\n",
        "    track_i_length = 0\n",
        "    all_vs_all_distance = np.zeros(\n",
        "                (len(sameTrackID_detections), len(sameTrackID_detections)))\n",
        "    all_vs_all_area = np.zeros(\n",
        "                (len(sameTrackID_detections), len(sameTrackID_detections)))\n",
        "    i = 0\n",
        "    for c0 in sameTrackID_detections:\n",
        "        j = 0\n",
        "        for c1 in sameTrackID_detections:\n",
        "            distance_diff = math.sqrt((c0[0] - c1[0]) ** 2 + (c0[1] - c1[1]) ** 2)\n",
        "            area_diff =  abs(c0[2] - c1[2])\n",
        "            all_vs_all_distance[i,j] = distance_diff\n",
        "            all_vs_all_area[i,j] = area_diff\n",
        "            j = j + 1\n",
        "        i = i + 1\n",
        "\n",
        "    max_distance = np.max(all_vs_all_distance)\n",
        "    max_area = np.max(all_vs_all_area)\n",
        "\n",
        "    if label == 0:\n",
        "        distances_NHS.append(max_distance)\n",
        "        areas_NHS.append(max_area)\n",
        "        trackLength_NHS.append(track_i_length)\n",
        "    \n",
        "    elif label == 1:\n",
        "        distances_HS.append(max_distance)\n",
        "        areas_HS.append(max_area)\n",
        "        trackLength_HS.append(track_i_length)\n",
        "\n",
        "    elif label == 2:\n",
        "        distances_AN.append(max_distance)\n",
        "        areas_AN.append(max_area)\n",
        "        trackLength_AN.append(track_i_length)"
      ],
      "execution_count": null,
      "outputs": [
        {
          "output_type": "stream",
          "text": [
            "Studying sequence 20171207.039_AEQ11(1)\n",
            "Studying sequence 20171207.043_AEQ11(2)\n",
            "Studying sequence 20180918.036_AEQ50(3)\n",
            "Studying sequence 20180918.038_AEQ50(4)\n",
            "Studying sequence 20180918.040_AEQ50(5)\n",
            "Studying sequence 20180919.007_AEQ40(6)\n",
            "Studying sequence 20180920.034_AEQ11(7)\n",
            "Studying sequence 20181002.028_AEQ20(8)\n",
            "Studying sequence 20181004.038_AEQ10(9)\n",
            "Studying sequence 20181004.038_AEQ20(10)\n",
            "Studying sequence 20181004.038_AEQ40(11)\n",
            "Studying sequence 20181004.046_AEQ20(12)\n",
            "Studying sequence 20181004.046_AEQ40(13)\n",
            "Studying sequence 20181004.046_AEQ50(14)\n"
          ],
          "name": "stdout"
        }
      ]
    },
    {
      "cell_type": "code",
      "metadata": {
        "colab": {
          "base_uri": "https://localhost:8080/",
          "height": 1000
        },
        "id": "Imml7czYhEYe",
        "outputId": "d873cb26-1581-4536-e13b-61174156519a"
      },
      "source": [
        "import math\n",
        "import matplotlib.pyplot as plt\n",
        "\n",
        "# Plot\n",
        "# TRACK LENGTH\n",
        "print('######### TRACK LENGTH #########\\n')\n",
        "\n",
        "f,a = plt.subplots(nrows=1, ncols=3, figsize=(15,5))\n",
        "histnames = [trackLength_NHS, trackLength_HS, trackLength_AN]\n",
        "titles = ['NoHotSpots Histogram', 'HotSpot Histogram', 'Anomaly Histogram']\n",
        "colors = ['b', 'r', 'g']\n",
        "\n",
        "for i in range(len(a)):\n",
        "    a[i].hist(histnames[i], bins=50, color = colors[i], ec=\"black\", range=[0,1200])\n",
        "    a[i].set_title(titles[i])\n",
        "_ = f.suptitle('Histogram of frame-lengths of the tracks')\n",
        "plt.show()\n",
        "\n",
        "\n",
        "plt.figure(figsize=(6,6))\n",
        "plt.title('General histogram of lengths of the tracks')                    \n",
        "_ = plt.hist(trackLength_NHS + trackLength_HS + trackLength_AN, bins=50, color = \"black\", ec=\"black\")\n",
        "plt.show()\n",
        "\n",
        "# CENTRIOD DISPLACEMENT\n",
        "print('\\n######### CENTROID DISPLACEMENT #########\\n')\n",
        "\n",
        "f,a = plt.subplots(nrows=1, ncols=3, figsize=(15,5))\n",
        "histnames = [distances_NHS, distances_HS, distances_AN]\n",
        "titles = ['NoHotSpots Histogram', 'HotSpot Histogram', 'Anomaly Histogram']\n",
        "colors = ['b', 'r', 'g']\n",
        "\n",
        "for i in range(len(a)):\n",
        "    a[i].hist(histnames[i], bins=50, color = colors[i], ec=\"black\", range=[0,250])\n",
        "    a[i].set_title(titles[i])\n",
        "_ = f.suptitle('Histogram of maximum displacement of the center of the tracks BBox')\n",
        "plt.show()\n",
        "\n",
        "plt.figure(figsize=(6,6))\n",
        "plt.title('General histogram of maximum displacement of the center of the tracks BBox')                    \n",
        "_ = plt.hist(distances_NHS + distances_HS + distances_AN, bins=50, color = \"black\", ec=\"black\", range=[0,250])\n",
        "plt.show()\n",
        "\n",
        "# SIZE CHANGES\n",
        "print('\\n######### SIZE CHANGES #########\\n')\n",
        "\n",
        "f,a = plt.subplots(nrows=1, ncols=3, figsize=(15,5))\n",
        "histnames = [areas_NHS, areas_HS, areas_AN]\n",
        "titles = ['NoHotSpots Histogram', 'HotSpot Histogram', 'Anomaly Histogram']\n",
        "colors = ['b', 'r', 'g']\n",
        "\n",
        "for i in range(len(a)):\n",
        "    a[i].hist(histnames[i], bins=50, color = colors[i], ec=\"black\")\n",
        "    a[i].set_title(titles[i])\n",
        "_ = f.suptitle('Histogram of maximum change of size of the tracks BBox')\n",
        "plt.show()\n",
        "\n",
        "plt.figure(figsize=(6,6))\n",
        "plt.title('General histogram of maximum change of size of the tracks BBox')                    \n",
        "_ = plt.hist(areas_NHS + areas_HS + areas_AN, bins=50, color = \"black\", ec=\"black\")\n",
        "plt.show()\n",
        "\n",
        "# MEAN CALCULATIONS\n",
        "print('\\n######### MEAN CALCULATIONS #########\\n')\n",
        "\n",
        "print('NHS:\\tMean TRACK LENGTH: {:.2f} frames'.format((sum(trackLength_NHS)/len(trackLength_NHS))))\n",
        "print('HS:\\tMean TRACK LENGTH: {:.2f} frames'.format((sum(trackLength_HS)/len(trackLength_HS))))\n",
        "print('AN:\\tMean TRACK LENGTH: {:.2f} frames'.format((sum(trackLength_AN)/len(trackLength_AN))))\n",
        "print('GENERAL: Mean TRACK LENGTH: {:.2f} frames\\n'.format((sum(trackLength_NHS+trackLength_HS+trackLength_AN)/len(trackLength_NHS+trackLength_HS+trackLength_AN))))\n",
        "\n",
        "print('NHS:\\tMean DISPLACEMENT: {:.2f} pixels'.format((sum(distances_NHS)/len(distances_NHS))))\n",
        "print('HS:\\tMean DISPLACEMENT: {:.2f} pixels'.format((sum(distances_HS)/len(distances_HS))))\n",
        "print('NHS:\\tMean DISPLACEMENT: {:.2f} pixels'.format((sum(distances_AN)/len(distances_AN))))\n",
        "print('GENERAL: Mean DISPLACEMENT: {:.2f} pixels\\n'.format((sum(distances_NHS+distances_HS+distances_AN)/len(distances_NHS+distances_HS+distances_AN))))\n",
        "\n",
        "print('NHS:\\tMean SIZE CHANGE: {:.2f} pixels2'.format((sum(areas_NHS)/len(areas_NHS))))\n",
        "print('NHS:\\tMean CHANGE OF THE SIDES OF THE BBOX: {:.2f} pixels'.format(math.sqrt(sum(areas_NHS)/len(areas_NHS))))\n",
        "\n",
        "print('HS:\\tMean SIZE CHANGE: {:.2f} pixels2'.format((sum(areas_HS)/len(areas_HS))))\n",
        "print('HS:\\tMean CHANGE OF THE SIDES OF THE BBOX: {:.2f} pixels'.format(math.sqrt(sum(areas_HS)/len(areas_HS))))\n",
        "\n",
        "print('AN:\\tMean SIZE CHANGE: {:.2f} pixels2'.format((sum(areas_AN)/len(areas_AN))))\n",
        "print('AN:\\tMean CHANGE OF THE SIDES OF THE BBOX: {:.2f} pixels'.format(math.sqrt(sum(areas_AN)/len(areas_AN))))\n",
        "\n",
        "print('GENERAL: Mean SIZE CHANGE: {:.2f} pixels2'.format((sum(areas_NHS+areas_HS+areas_AN)/len(areas_NHS+areas_HS+areas_AN))))\n",
        "print('GENERAL: Mean CHANGE OF THE SIDES OF THE BBOX: {:.2f} pixels'.format(math.sqrt(sum(areas_NHS+areas_HS+areas_AN)/len(areas_NHS+areas_HS+areas_AN))))\n"
      ],
      "execution_count": null,
      "outputs": [
        {
          "output_type": "stream",
          "text": [
            "######### TRACK LENGTH #########\n",
            "\n"
          ],
          "name": "stdout"
        },
        {
          "output_type": "display_data",
          "data": {
            "image/png": "[encoded data removed]",
            "text/plain": [
              "<Figure size 1080x360 with 3 Axes>"
            ]
          },
          "metadata": {
            "tags": [],
            "needs_background": "light"
          }
        },
        {
          "output_type": "display_data",
          "data": {
            "image/png": "[encoded data removed]",
            "text/plain": [
              "<Figure size 432x432 with 1 Axes>"
            ]
          },
          "metadata": {
            "tags": [],
            "needs_background": "light"
          }
        },
        {
          "output_type": "stream",
          "text": [
            "\n",
            "######### CENTROID DISPLACEMENT #########\n",
            "\n"
          ],
          "name": "stdout"
        },
        {
          "output_type": "display_data",
          "data": {
            "image/png": "[encoded data removed]",
            "text/plain": [
              "<Figure size 1080x360 with 3 Axes>"
            ]
          },
          "metadata": {
            "tags": [],
            "needs_background": "light"
          }
        },
        {
          "output_type": "display_data",
          "data": {
            "image/png": "[encoded data removed]",
            "text/plain": [
              "<Figure size 432x432 with 1 Axes>"
            ]
          },
          "metadata": {
            "tags": [],
            "needs_background": "light"
          }
        },
        {
          "output_type": "stream",
          "text": [
            "\n",
            "######### SIZE CHANGES #########\n",
            "\n"
          ],
          "name": "stdout"
        },
        {
          "output_type": "display_data",
          "data": {
            "image/png": "[encoded data removed]",
            "text/plain": [
              "<Figure size 1080x360 with 3 Axes>"
            ]
          },
          "metadata": {
            "tags": [],
            "needs_background": "light"
          }
        },
        {
          "output_type": "display_data",
          "data": {
            "image/png": "[encoded data removed]",
            "text/plain": [
              "<Figure size 432x432 with 1 Axes>"
            ]
          },
          "metadata": {
            "tags": [],
            "needs_background": "light"
          }
        },
        {
          "output_type": "stream",
          "text": [
            "\n",
            "######### MEAN CALCULATIONS #########\n",
            "\n",
            "NHS:\tMean TRACK LENGTH: 193.63 frames\n",
            "HS:\tMean TRACK LENGTH: 381.28 frames\n",
            "AN:\tMean TRACK LENGTH: 173.41 frames\n",
            "GENERAL: Mean TRACK LENGTH: 200.54 frames\n",
            "\n",
            "NHS:\tMean DISPLACEMENT: 6.81 pixels\n",
            "HS:\tMean DISPLACEMENT: 7.52 pixels\n",
            "NHS:\tMean DISPLACEMENT: 10.88 pixels\n",
            "GENERAL: Mean DISPLACEMENT: 7.00 pixels\n",
            "\n",
            "NHS:\tMean SIZE CHANGE: 2855.02 pixels2\n",
            "NHS:\tMean CHANGE OF THE SIDES OF THE BBOX: 53.43 pixels\n",
            "HS:\tMean SIZE CHANGE: 2394.69 pixels2\n",
            "HS:\tMean CHANGE OF THE SIDES OF THE BBOX: 48.94 pixels\n",
            "AN:\tMean SIZE CHANGE: 2461.46 pixels2\n",
            "AN:\tMean CHANGE OF THE SIDES OF THE BBOX: 49.61 pixels\n",
            "GENERAL: Mean SIZE CHANGE: 2820.83 pixels2\n",
            "GENERAL: Mean CHANGE OF THE SIDES OF THE BBOX: 53.11 pixels\n"
          ],
          "name": "stdout"
        }
      ]
    },
    {
      "cell_type": "markdown",
      "metadata": {
        "id": "94t3v4lRhWYt"
      },
      "source": [
        "In light of the histograms achieved, we can conclude that more or less all the tracks of different labels perform the same.\n",
        "\n",
        "The tracks last around 200 frames, but in this case the HotSpots are often longer than the other two labels (around 400 frames).\n",
        "\n",
        "The tracks have very low movement, so having less frames rather than all the track would be a good idea since the images will be from the same part of the image. In other words, making a subsampling or only taking a few frames of the track could be a good idea.\n",
        "\n",
        "The sizes of the BBoxes change a little bit. However, since we already know that 92% of the BBoxes fit in squares of 224, we do not have to worry."
      ]
    }
  ]
}